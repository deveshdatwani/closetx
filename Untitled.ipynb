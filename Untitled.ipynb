{
 "cells": [
  {
   "cell_type": "code",
   "execution_count": 21,
   "id": "1b0b5157",
   "metadata": {},
   "outputs": [],
   "source": [
    "import uuid\n",
    "import boto3\n",
    "import io, os\n",
    "from PIL import Image\n",
    "import mysql.connector\n",
    "from base64 import encodebytes\n",
    "from mysql.connector import errorcode\n",
    "from flask import g, current_app, Response, jsonify\n",
    "from werkzeug.security import check_password_hash, generate_password_hash"
   ]
  },
  {
   "cell_type": "code",
   "execution_count": 22,
   "id": "47f1af78",
   "metadata": {},
   "outputs": [],
   "source": [
    "import functools\n",
    "from flask import Blueprint, g, flash, redirect, render_template, request, session, url_for, current_app, send_file"
   ]
  },
  {
   "cell_type": "code",
   "execution_count": 34,
   "id": "d9a9b4d1",
   "metadata": {},
   "outputs": [],
   "source": [
    "def get_user_apparels(userid):\n",
    "    dbx = get_db_x()\n",
    "    if dbx and dbx.is_connected():\n",
    "        try:\n",
    "            crx = dbx.cursor()\n",
    "            crx.execute(\"SELECT * FROM apparel WHERE user = %s\", (userid,))\n",
    "            apparel_ids = crx.fetchall()\n",
    "            crx.close()\n",
    "            dbx.close()\n",
    "            return apparel_ids\n",
    "        except Exception as e:\n",
    "            print(e)"
   ]
  },
  {
   "cell_type": "code",
   "execution_count": 39,
   "id": "0397180c",
   "metadata": {},
   "outputs": [],
   "source": [
    "def get_db_x():\n",
    "    attempts = 4\n",
    "    try:\n",
    "        while attempts:\n",
    "            cnx = mysql.connector.connect(\n",
    "                user='root',\n",
    "                password='password',\n",
    "                host='127.0.0.1',\n",
    "                database='closetx',\n",
    "                port=3307)\n",
    "            attempts -= 1\n",
    "            if cnx: break\n",
    "    except mysql.connector.Error as err:        \n",
    "        return None\n",
    "    return cnx"
   ]
  },
  {
   "cell_type": "code",
   "execution_count": 40,
   "id": "f4eb4ca6",
   "metadata": {},
   "outputs": [],
   "source": [
    "def get_user_closet(userid):\n",
    "    apparel_ids = get_user_apparels(userid)\n",
    "    return apparel_ids"
   ]
  },
  {
   "cell_type": "code",
   "execution_count": 41,
   "id": "03ce183b",
   "metadata": {},
   "outputs": [],
   "source": [
    "resp = get_user_apparels(4)"
   ]
  },
  {
   "cell_type": "code",
   "execution_count": 48,
   "id": "1133a97d",
   "metadata": {},
   "outputs": [
    {
     "data": {
      "text/plain": [
       "(16, 4, '314aa9de-8880-41da-bd93-785298ea0850')"
      ]
     },
     "execution_count": 48,
     "metadata": {},
     "output_type": "execute_result"
    }
   ],
   "source": [
    "resp[4]"
   ]
  },
  {
   "cell_type": "code",
   "execution_count": null,
   "id": "a913cb81",
   "metadata": {},
   "outputs": [],
   "source": []
  }
 ],
 "metadata": {
  "kernelspec": {
   "display_name": "Python 3",
   "language": "python",
   "name": "python3"
  },
  "language_info": {
   "codemirror_mode": {
    "name": "ipython",
    "version": 3
   },
   "file_extension": ".py",
   "mimetype": "text/x-python",
   "name": "python",
   "nbconvert_exporter": "python",
   "pygments_lexer": "ipython3",
   "version": "3.8.10"
  }
 },
 "nbformat": 4,
 "nbformat_minor": 5
}
